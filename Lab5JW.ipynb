{
 "cells": [
  {
   "cell_type": "markdown",
   "metadata": {},
   "source": [
    "### Lab 5: RNA Folding"
   ]
  },
  {
   "cell_type": "code",
   "execution_count": 1,
   "metadata": {},
   "outputs": [],
   "source": [
    "# Imports\n",
    "# import sys\n",
    "# !{sys.executable} -m pip install prettytable\n",
    "from prettytable import PrettyTable\n",
    "import subprocess"
   ]
  },
  {
   "cell_type": "markdown",
   "metadata": {},
   "source": [
    "### Sequences from paper\n",
    "#### YES-1 from Fig. 2a\n",
    "Sequence: GGGCGACCCUGAUGAGCUUGAGUUUAGCUCGUCACUGUCCAGGUUCAAUCAGGCGAAACGGUGAAAGCCGUAGGUUGCCC  \n",
    "OBS: 26-47\n",
    "Red regions: 16-21, 49-54\n",
    "\n",
    "\n",
    "#### NOT-1 from Fig. 4a\n",
    "Sequence: GGCAGGUACAUACAGCUGAUGAGUCCCAAAUAGGACGAAACGCGACACACACCACUAAACCGUGCAGUGUUUUGCGUCCUGUAUUCCACUGC  \n",
    "OBS: 44-66\n",
    "Red regions: 40-43, 74-77\n",
    "        \n",
    "    \n",
    "#### AND-1 from Fig 5a\n",
    "Sequence: GGGCGACCCUGAUGAGCUUGGUUUAGUAUUUACAGCUCCAUACAUGAGGUGUUAUCCCUAUGCAAGUUCGAUCAGGCGAAACGGUGAAAGCCGUAGGUUGCCCAGAGACAAU  \n",
    "OBS1: 30-45\n",
    "OBS2: 49-64\n",
    "Red regions: 16-23, 70-77\n",
    "\n",
    "\n",
    "#### OR-1 from Fig. 6a\n",
    "Sequence: GGGCGACCCUGAUGAGCUUGGUUGAGUAUUUACAGCUCCAUACAUGAGGUGUUCUCCCUACGCAAGUUCGAUCAGGCGAAACGGUGAAAGCCGUAGGUUGCCC  \n",
    "OBS1: 27-46  \n",
    "OBS2: 47-66  \n",
    "Red regions: 16-26, 67-77  "
   ]
  },
  {
   "cell_type": "code",
   "execution_count": 2,
   "metadata": {},
   "outputs": [
    {
     "name": "stdout",
     "output_type": "stream",
     "text": [
      "+-------+-------------+-----------+-------------+-----------+-------------+-----------+-------------+-----------+\n",
      "|  Name | OBS-1 Start | OBS-1 End | OBS-2 Start | OBS-2 End | Red 1 Start | Red 1 End | Red 2 Start | Red 2 End |\n",
      "+-------+-------------+-----------+-------------+-----------+-------------+-----------+-------------+-----------+\n",
      "| YES-1 |      26     |     47    |      -      |     -     |      16     |     21    |      49     |     54    |\n",
      "| NOT-1 |      44     |     66    |      -      |     -     |      40     |     43    |      74     |     77    |\n",
      "| AND-1 |      30     |     45    |      49     |     64    |      16     |     23    |      70     |     77    |\n",
      "|  OR-1 |      27     |     46    |      47     |     66    |      16     |     26    |      67     |     77    |\n",
      "+-------+-------------+-----------+-------------+-----------+-------------+-----------+-------------+-----------+\n"
     ]
    }
   ],
   "source": [
    "# For each riboswitch, produce a table that contains the following information:\n",
    "# (1) riboswitch name, (2) start and end coordinates of OBS-1\n",
    "# (3) start and end coordinates of OBS-2, (4) start and end coordinates of the two red regions.\n",
    "seq1_info = ['YES-1', 26, 47, '-', '-', 16, 21, 49, 54, 'GGGCGACCCUGAUGAGCUUGAGUUUAGCUCGUCACUGUCCAGGUUCAAUCAGGCGAAACGGUGAAAGCCGUAGGUUGCCC']\n",
    "seq2_info = ['NOT-1', 44, 66, '-', '-', 40, 43, 74, 77, 'GGCAGGUACAUACAGCUGAUGAGUCCCAAAUAGGACGAAACGCGACACACACCACUAAACCGUGCAGUGUUUUGCGUCCUGUAUUCCACUGC']\n",
    "seq3_info = ['AND-1', 30, 45, 49, 64, 16, 23, 70, 77, 'GGGCGACCCUGAUGAGCUUGGUUUAGUAUUUACAGCUCCAUACAUGAGGUGUUAUCCCUAUGCAAGUUCGAUCAGGCGAAACGGUGAAAGCCGUAGGUUGCCCAGAGACAAU']\n",
    "seq4_info = ['OR-1', 27, 46, 47, 66, 16, 26, 67, 77, 'GGGCGACCCUGAUGAGCUUGGUUGAGUAUUUACAGCUCCAUACAUGAGGUGUUCUCCCUACGCAAGUUCGAUCAGGCGAAACGGUGAAAGCCGUAGGUUGCCC']\n",
    "\n",
    "t = PrettyTable(['Name', 'OBS-1 Start', 'OBS-1 End', 'OBS-2 Start', 'OBS-2 End', 'Red 1 Start', 'Red 1 End', 'Red 2 Start', 'Red 2 End'])\n",
    "t.add_row(seq1_info[:-1])    # don't need to include sequence but will use it later\n",
    "t.add_row(seq2_info[:-1])\n",
    "t.add_row(seq3_info[:-1])\n",
    "t.add_row(seq4_info[:-1])\n",
    "print(t)"
   ]
  },
  {
   "cell_type": "markdown",
   "metadata": {},
   "source": [
    "### Terminal command lines\n",
    "RNAfold  \n",
    "Input string (upper or lower case); @ to quit  \n",
    "....,....1....,....2....,....3....,....4....,....5....,....6....,....7....,....8  \n",
    "GGGCGACCCUGAUGAGCUUGAGUUUAGCUCGUCACUGUCCAGGUUCAAUCAGGCGAAACGGUGAAAGCCGUAGGUUGCCC  \n",
    "length = 80  \n",
    "\n",
    "GGGCGACCCUGAUGAGCUUGAGUUUAGCUCGUCACUGUCCAGGUUCAAUCAGGCGAAACGGUGAAAGCCGUAGGUUGCCC  \n",
    "((((((((.(((((((((.......))))))))).((.((.(((...))).))))..(((((....))))).))))))))  \n",
    " minimum free energy = -33.00 kcal/mol  \n",
    "\n",
    "\n",
    "\n",
    "Input string (upper or lower case); @ to quit  \n",
    "....,....1....,....2....,....3....,....4....,....5....,....6....,....7....,....8  \n",
    "GGCAGGUACAUACAGCUGAUGAGUCCCAAAUAGGACGAAACGCGACACACACCACUAAACCGUGCAGUGUUUUGCGUCCUGUAUUCCACUGC   \n",
    "length = 93  \n",
    "\n",
    "GGCAGGUACAUACAGCUGAUGAGUCCCAAAUAGGACGAAACGCGACACACACCACUAAACCGUGCAGUGUUUUGCGUCCUGUAUUCCACUGC  \n",
    ".((((....((((((.......((((......))))...((((.((.((((..(((......)))..)))))).)))).))))))....))))  \n",
    " minimum free energy = -24.50 kcal/mol  \n",
    "\n",
    "\n",
    "\n",
    "Input string (upper or lower case); @ to quit  \n",
    "....,....1....,....2....,....3....,....4....,....5....,....6....,....7....,....8  \n",
    "GGGCGACCCUGAUGAGCUUGGUUUAGUAUUUACAGCUCCAUACAUGAGGUGUUAUCCCUAUGCAAGUUCGAUCAGGCGAAACGGUGAAAGCCGUAGGUUGCCCAGAGACAAU  \n",
    "length = 112  \n",
    "\n",
    "GGGCGACCCUGAUGAGCUUGGUUUAGUAUUUACAGCUCCAUACAUGAGGUGUUAUCCCUAUGCAAGUUCGAUCAGGCGAAACGGUGAAAGCCGUAGGUUGCCCAGAGACAAU  \n",
    "((((((((((((((((((((...(((.....(((.(((.......))).))).....)))..))))))).))))).....(((((....))))).)))))))).........  \n",
    " minimum free energy = -42.10 kcal/mol  \n",
    "\n",
    "  \n",
    "\n",
    "Input string (upper or lower case); @ to quit  \n",
    "....,....1....,....2....,....3....,....4....,....5....,....6....,....7....,....8  \n",
    "GGGCGACCCCUGAUGGCUUGGUUGAGUAUUUACAGCUCCAUAUACAUGAGGUGUUCUCCCUACGCAAGUUCGAUCAGGCGAAACGGUGAAAGCCGUAGGUUGCCC  \n",
    "length = 106  \n",
    "\n",
    "GGGCGACCCCUGAUGGCUUGGUUGAGUAUUUACAGCUCCAUAUACAUGAGGUGUUCUCCCUACGCAAGUUCGAUCAGGCGAAACGGUGAAAGCCGUAGGUUGCCC  \n",
    "((((((((.....(.(((((((((((.....(((.(((.........))).)))...............))))))))))).).(((((....))))).))))))))  \n",
    " minimum free energy = -34.80 kcal/mol  \n",
    "\n",
    "@"
   ]
  },
  {
   "cell_type": "code",
   "execution_count": 3,
   "metadata": {},
   "outputs": [
    {
     "name": "stdout",
     "output_type": "stream",
     "text": [
      "Output files:\n",
      "> 2a_YES-1\r\n",
      "GGGCGACCCUGAUGAGCUUGAGUUUAGCUCGUCACUGUCCAGGUUCAAUCAGGCGAAACGGUGAAAGCCGUAGGUUGCCC\r\n",
      "((((((((.(((((((((.......))))))))).((.((.(((...))).))))..(((((....))))).)))))))) (-33.00)\r\n",
      "> 4a_NOT-1\r\n",
      "GGCAGGUACAUACAGCUGAUGAGUCCCAAAUAGGACGAAACGC GACACACACCACUAAACCGUGCAGUGUUUUGCGUCCUGUAUUCCACUGC\r\n",
      ".((((....((((((.......((((......))))...((((.((.((((..(((......)))..)))))).)))).))))))....)))) (-24.50)\r\n",
      "> 5a_AND-1\r\n",
      "GGGCGACCCUGAUGAGCUUGGUUUAGUAUUUACAGCUCCAUACAUGAGGUGUUAUCCCUAUGCAAGUUCGAUCAGGCGAAACGGUGAAAGCCGUAGGUUGCCCAGAGACAAU\r\n",
      "((((((((((((((((((((...(((.....(((.(((.......))).))).....)))..))))))).))))).....(((((....))))).))))))))......... (-42.10)\r\n",
      "> 6a_OR-1\r\n",
      "GGGCGACCCCUGAUGGCUUGGUUGAGUAUUUACAGCUCCAUAUACAUGAGGUGUUCUCCCUACGCAAGUUCGAUCAGGCGAAACGGUGAAAGCCGUAGGUUGCCC\r\n",
      "((((((((((((((((((((((.(((.....(((.(((.........))).))).)))...)).))))))..))))))....(((((....))))).)))))))) (-37.50)\r\n",
      "\n"
     ]
    }
   ],
   "source": [
    "# Routine to run RNAfold - check that outputs are the same as when run from terminal\n",
    "seqs = '''\n",
    "> 2a_YES-1\n",
    "GGGCGACCCUGAUGAGCUUGAGUUUAGCUCGUCACUGUCCAGGUUCAAUCAGGCGAAACGGUGAAAGCCGUAGGUUGCCC\n",
    "> 4a_NOT-1\n",
    "GGCAGGUACAUACAGCUGAUGAGUCCCAAAUAGGACGAAACGC GACACACACCACUAAACCGUGCAGUGUUUUGCGUCCUGUAUUCCACUGC\n",
    "> 5a_AND-1\n",
    "GGGCGACCCUGAUGAGCUUGGUUUAGUAUUUACAGCUCCAUACAUGAGGUGUUAUCCCUAUGCAAGUUCGAUCAGGCGAAACGGUGAAAGCCGUAGGUUGCCCAGAGACAAU\n",
    "> 6a_OR-1\n",
    "GGGCGACCCCUGAUGGCUUGGUUGAGUAUUUACAGCUCCAUAUACAUGAGGUGUUCUCCCUACGCAAGUUCGAUCAGGCGAAACGGUGAAAGCCGUAGGUUGCCC'''\n",
    "\n",
    "proc = subprocess.run('RNAfold', input=bytes(seqs,'ascii'), stdout=subprocess.PIPE, stderr=subprocess.PIPE, check=True)\n",
    "print('Output files:')\n",
    "print(proc.stdout.decode())"
   ]
  },
  {
   "cell_type": "markdown",
   "metadata": {},
   "source": [
    "### Comparing fold structures generated by RNAfold (in terminal and subroutine) vs. those in [paper](https://www.nature.com/articles/nbt1155)\n",
    "![comp_yes1.jpg](comp_yes1.jpg)\n",
    "![comp_not1.jpg](comp_not1.jpg)\n",
    "![comp_and1.jpg](comp_and1.jpg)\n",
    "![comp_or1.jpg](comp_or1.jpg)"
   ]
  },
  {
   "cell_type": "code",
   "execution_count": 4,
   "metadata": {},
   "outputs": [],
   "source": [
    "# Generate contraints.txt to pass to -C parameter of RNAfold\n",
    "# Use a dot (\".\") for every unconstrained based, and a lowercase x for\n",
    "# every base that you want to prevent from pairing\n",
    "\n",
    "def constrain_single_OBS(sequence, start_pos, end_pos):\n",
    "    constraint_str = ''\n",
    "    for c in range(len(sequence)):\n",
    "        if c < start_pos-1 or c > end_pos-1:\n",
    "            constraint_str += '.'\n",
    "        else:\n",
    "            constraint_str += 'x'\n",
    "    return(constraint_str)\n",
    "\n",
    "\n",
    "\n",
    "def constrain_both_OBSs(sequence, start1_pos, end1_pos, start2_pos, end2_pos):\n",
    "    both_obs_con = ''\n",
    "    for c in range(len(sequence)):\n",
    "        if (c >= start1_pos-1 and c <= end1_pos-1) or (c >= start2_pos-1 and c <= end2_pos-1):\n",
    "            both_obs_con += 'x'\n",
    "        else:\n",
    "            both_obs_con += '.'\n",
    "    return(both_obs_con)\n",
    "\n",
    "\n",
    "def generate_constraints(seq_info):\n",
    "    filenames = []\n",
    "    gate_name = seq_info[0]\n",
    "    obs1_start = seq_info[1]\n",
    "    obs1_end = seq_info[2]\n",
    "    obs2_start = seq_info[3]\n",
    "    obs2_end = seq_info[4]\n",
    "    seq = seq_info[9]\n",
    "    \n",
    "    # Every sequence has at least OBS-1\n",
    "    filename1 = seq_info[0] + '_OBS1_constraints.txt'\n",
    "    filenames.append(filename1)\n",
    "    file1 = open(filename1, 'w')\n",
    "    constraint_str = constrain_single_OBS(seq, obs1_start, obs1_end)\n",
    "    file1_contents = '> ' + seq_info[0] + '_con1\\n' + seq + '\\n' + constraint_str\n",
    "    file1.write(file1_contents)\n",
    "    file1.close()\n",
    "    \n",
    "    # If sequence has OBS-2\n",
    "    if obs2_start != '-' and obs2_end != '-':    # 2 OBS regions requires an additional 2 constraint files\n",
    "        filename2 = seq_info[0] + '_OBS2_constraints.txt'\n",
    "        filenames.append(filename2)\n",
    "        file2 = open(filename2, 'w')\n",
    "        constraint_str = constrain_single_OBS(seq, obs2_start, obs2_end)\n",
    "        file2_contents = '> ' + seq_info[0] + '_con2\\n' + seq + '\\n' + constraint_str\n",
    "        file2.write(file2_contents)\n",
    "        file2.close()\n",
    "        \n",
    "        filename3 = seq_info[0] + '_bothOBS_constraints.txt'\n",
    "        filenames.append(filename3)\n",
    "        file3 = open(filename3, 'w')\n",
    "        constraint_str = constrain_both_OBSs(seq, obs1_start, obs1_end, obs2_start, obs2_end)\n",
    "        file3_contents = '> ' + seq_info[0] + '_bothcon\\n' + seq + '\\n' + constraint_str\n",
    "        file3.write(file3_contents)\n",
    "        file3.close()\n",
    "\n",
    "    return(filenames)"
   ]
  },
  {
   "cell_type": "code",
   "execution_count": 5,
   "metadata": {},
   "outputs": [
    {
     "name": "stdout",
     "output_type": "stream",
     "text": [
      "YES-1_OBS1_constraints.txt generated\n",
      "Output files:\n",
      "> YES-1_con1\n",
      "GGGCGACCCUGAUGAGCUUGAGUUUAGCUCGUCACUGUCCAGGUUCAAUCAGGCGAAACGGUGAAAGCCGUAGGUUGCCC\n",
      "((((((((.......((((((...........................))))))...(((((....))))).)))))))) (-24.50)\n",
      "\n",
      "NOT-1_OBS1_constraints.txt generated\n",
      "> NOT-1_con1\n",
      "GGCAGGUACAUACAGCUGAUGAGUCCCAAAUAGGACGAAACGCGACACACACCACUAAACCGUGCAGUGUUUUGCGUCCUGUAUUCCACUGC\n",
      ".((((....((((((..((((.((((......))))(((((((.......................))))))).))))))))))....)))) (-20.80)\n",
      "\n"
     ]
    }
   ],
   "source": [
    "# Simulate OBS binding in YES-1 and NOT-1 by telling RNAfold to prevent\n",
    "# the OBS region from pairing with any other region of the riboswitch\n",
    "seq1con_filenames = generate_constraints(seq1_info)\n",
    "for filename in seq1con_filenames:\n",
    "    print(filename + ' generated')\n",
    "    proc = subprocess.run(['RNAfold', '-C', filename], stdout=subprocess.PIPE, stderr=subprocess.PIPE, check=True)\n",
    "    print('Output files:')\n",
    "    print(proc.stdout.decode())\n",
    "\n",
    "seq2con_filenames = generate_constraints(seq2_info)\n",
    "for filename in seq2con_filenames:\n",
    "    print(filename + ' generated')\n",
    "    proc = subprocess.run(['RNAfold', '-C', filename], stdout=subprocess.PIPE, stderr=subprocess.PIPE, check=True)\n",
    "    print(proc.stdout.decode())"
   ]
  },
  {
   "cell_type": "markdown",
   "metadata": {},
   "source": [
    "### Comparing YES-1 and NOT-1 fold structures generated by RNAfold (terminal + subroutine) vs. those in [paper](https://www.nature.com/articles/nbt1155) - with constraints on binding of OBS-1 region\n",
    "![comp_yes1_con.jpg](comp_yes1_con.jpg)\n",
    "![comp_not1_con.jpg](comp_not1_con.jpg)"
   ]
  },
  {
   "cell_type": "code",
   "execution_count": 6,
   "metadata": {
    "scrolled": true
   },
   "outputs": [
    {
     "name": "stdout",
     "output_type": "stream",
     "text": [
      "AND-1_OBS1_constraints.txt generated\n",
      "Output files:\n",
      "> AND-1_con1\n",
      "GGGCGACCCUGAUGAGCUUGGUUUAGUAUUUACAGCUCCAUACAUGAGGUGUUAUCCCUAUGCAAGUUCGAUCAGGCGAAACGGUGAAAGCCGUAGGUUGCCCAGAGACAAU\n",
      "((((((((((((((((((((..........................(((.(....))))...))))))).))))).....(((((....))))).))))))))......... (-33.90)\n",
      "\n",
      "AND-1_OBS2_constraints.txt generated\n",
      "Output files:\n",
      "> AND-1_con2\n",
      "GGGCGACCCUGAUGAGCUUGGUUUAGUAUUUACAGCUCCAUACAUGAGGUGUUAUCCCUAUGCAAGUUCGAUCAGGCGAAACGGUGAAAGCCGUAGGUUGCCCAGAGACAAU\n",
      "(((((((((((((((((((((...(((.......))))))........................))))).))))).....(((((....))))).))))))))......... (-29.60)\n",
      "\n",
      "AND-1_bothOBS_constraints.txt generated\n",
      "Output files:\n",
      "> AND-1_bothcon\n",
      "GGGCGACCCUGAUGAGCUUGGUUUAGUAUUUACAGCUCCAUACAUGAGGUGUUAUCCCUAUGCAAGUUCGAUCAGGCGAAACGGUGAAAGCCGUAGGUUGCCCAGAGACAAU\n",
      "((((((((((((((((((..............................................))))).))))).....(((((....))))).))))))))......... (-27.64)\n",
      "\n",
      "OR-1_OBS1_constraints.txt generated\n",
      "> OR-1_con1\n",
      "GGGCGACCCUGAUGAGCUUGGUUGAGUAUUUACAGCUCCAUACAUGAGGUGUUCUCCCUACGCAAGUUCGAUCAGGCGAAACGGUGAAAGCCGUAGGUUGCCC\n",
      "((((((((((((((((((((((.(((...........................)))...)).))))))).))))).....(((((....))))).)))))))) (-34.20)\n",
      "\n",
      "OR-1_OBS2_constraints.txt generated\n",
      "> OR-1_con2\n",
      "GGGCGACCCUGAUGAGCUUGGUUGAGUAUUUACAGCUCCAUACAUGAGGUGUUCUCCCUACGCAAGUUCGAUCAGGCGAAACGGUGAAAGCCGUAGGUUGCCC\n",
      "((((((((.......(((((((((((........................................)))))))))))...(((((....))))).)))))))) (-29.09)\n",
      "\n",
      "OR-1_bothOBS_constraints.txt generated\n",
      "> OR-1_bothcon\n",
      "GGGCGACCCUGAUGAGCUUGGUUGAGUAUUUACAGCUCCAUACAUGAGGUGUUCUCCCUACGCAAGUUCGAUCAGGCGAAACGGUGAAAGCCGUAGGUUGCCC\n",
      "((((((((.......(((((((((((........................................)))))))))))...(((((....))))).)))))))) (-29.09)\n",
      "\n"
     ]
    }
   ],
   "source": [
    "# Simulate OBS binding in AND-1 and OR-1 by telling RNAfold to prevent OBS-1, OBS-2,\n",
    "# and both OBS regions from pairing with any other region of the riboswitch\n",
    "seq3con_filenames = generate_constraints(seq3_info)\n",
    "for filename in seq3con_filenames:\n",
    "    print(filename + ' generated')\n",
    "    proc = subprocess.run(['RNAfold', '-C', filename], stdout=subprocess.PIPE, stderr=subprocess.PIPE, check=True)\n",
    "    print('Output files:')\n",
    "    print(proc.stdout.decode())\n",
    "\n",
    "seq4con_filenames = generate_constraints(seq4_info)\n",
    "for filename in seq4con_filenames:\n",
    "    print(filename + ' generated')\n",
    "    proc = subprocess.run(['RNAfold', '-C', filename], stdout=subprocess.PIPE, stderr=subprocess.PIPE, check=True)\n",
    "    print(proc.stdout.decode())"
   ]
  },
  {
   "cell_type": "markdown",
   "metadata": {},
   "source": [
    "### Comparing AND-1 and OR-1 fold structures generated by RNAfold subroutine vs. those in [paper](https://www.nature.com/articles/nbt1155) - with constraints on binding of OBS-1 region only, OBS-2 region only, and both OBS regions\n",
    "![comp_and1_con1.jpg](comp_and1_con1.jpg)  \n",
    "![comp_and1_con2.jpg](comp_and1_con2.jpg)  \n",
    "![comp_and1_bothcon.jpg](comp_and1_bothcon.jpg)  \n",
    "![comp_or1_con1.jpg](comp_or1_con1.jpg)  \n",
    "![comp_or1_con2.jpg](comp_or1_con2.jpg)  \n",
    "![comp_or1_bothcon.jpg](comp_or1_bothcon.jpg)  "
   ]
  },
  {
   "cell_type": "code",
   "execution_count": 7,
   "metadata": {},
   "outputs": [
    {
     "name": "stdout",
     "output_type": "stream",
     "text": [
      "Inputs:\n",
      "\tTrue = region constrained\n",
      "\tFalse = region unconstrained\n",
      "Output:\n",
      "\tTrue = red regions bound (self-cleavage occurs)\n",
      "\tFalse = red regions unbound (self-cleavage doesn't occur)\n",
      "\n",
      "AND-1 riboswitch\n",
      "+-------+-------+---------------+\n",
      "| OBS-1 | OBS-2 | Self-cleavage |\n",
      "+-------+-------+---------------+\n",
      "| False | False |     False     |\n",
      "|  True | False |     False     |\n",
      "| False |  True |     False     |\n",
      "|  True |  True |     False     |\n",
      "+-------+-------+---------------+\n",
      "\n",
      "OR-1 riboswitch\n",
      "+-------+-------+---------------+\n",
      "| OBS-1 | OBS-2 | Self-cleavage |\n",
      "+-------+-------+---------------+\n",
      "| False | False |     False     |\n",
      "|  True | False |     False     |\n",
      "| False |  True |      True     |\n",
      "|  True |  True |      True     |\n",
      "+-------+-------+---------------+\n"
     ]
    }
   ],
   "source": [
    "# Truth table for AND-1 and OR-1 based on RNAfold results\n",
    "print('Inputs:\\n\\tTrue = region constrained\\n\\tFalse = region unconstrained')\n",
    "print('Output:\\n\\tTrue = red regions bound (self-cleavage occurs)\\n\\tFalse = red regions unbound (self-cleavage doesn\\'t occur)\\n')\n",
    "\n",
    "t1 = PrettyTable(['OBS-1', 'OBS-2', 'Self-cleavage'])\n",
    "t1.add_row(['False', 'False', 'False'])\n",
    "t1.add_row(['True', 'False', 'False'])\n",
    "t1.add_row(['False', 'True', 'False'])\n",
    "t1.add_row(['True', 'True', 'False'])\n",
    "print('AND-1 riboswitch')\n",
    "print(t1)\n",
    "print()\n",
    "\n",
    "t2 = PrettyTable(['OBS-1', 'OBS-2', 'Self-cleavage'])\n",
    "t2.add_row(['False', 'False', 'False'])\n",
    "t2.add_row(['True', 'False', 'False'])\n",
    "t2.add_row(['False', 'True', 'True'])\n",
    "t2.add_row(['True', 'True', 'True'])\n",
    "print('OR-1 riboswitch')\n",
    "print(t2)"
   ]
  },
  {
   "cell_type": "markdown",
   "metadata": {},
   "source": [
    "#### AND-1 logic gate\n",
    "According to the output of RNAfold, the AND-1 riboswitch with both OBS regions constrained doesn't work as the paper claims. The fold structure output by RNAfold for both OBS regions constrained didn't have the red regions bound, meaning self-cleaving would not occur as it should for an AND logic gate riboswitch with both OBS regions constrained.\n",
    "\n",
    "#### OR-1 logic gate\n",
    "According to the output of RNAfold, the OR-1 riboswitch with OBS-1 constrained doesn't work as the paper claims. The fold structure output by RNAfold for only OBS-1 constrained didn't have the red regions bound, meaning self-cleaving would not occur as it should for an OR logic gate riboswitch with only one OBS region constrained."
   ]
  }
 ],
 "metadata": {
  "kernelspec": {
   "display_name": "Python 3",
   "language": "python",
   "name": "python3"
  },
  "language_info": {
   "codemirror_mode": {
    "name": "ipython",
    "version": 3
   },
   "file_extension": ".py",
   "mimetype": "text/x-python",
   "name": "python",
   "nbconvert_exporter": "python",
   "pygments_lexer": "ipython3",
   "version": "3.6.5"
  }
 },
 "nbformat": 4,
 "nbformat_minor": 2
}
